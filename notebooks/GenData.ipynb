{
 "cells": [
  {
   "cell_type": "code",
   "execution_count": null,
   "metadata": {
    "collapsed": true
   },
   "outputs": [],
   "source": [
    "import numpy as np\n",
    "import scipy as sp\n",
    "import pandas as pd\n",
    "\n",
    "from scipy import optimize\n",
    "\n",
    "%matplotlib inline\n",
    "import matplotlib.pyplot as plt\n",
    "import matplotlib as mpt\n",
    "from data_functions import generate_toy_data, get_bootstrap_data, set_intensity, get_data_to_fit\n",
    "from data_functions import get_attenuation_parameters\n"
   ]
  },
  {
   "cell_type": "code",
   "execution_count": null,
   "metadata": {
    "collapsed": true
   },
   "outputs": [],
   "source": [
    "# input parameters for the simualtions\n",
    "minE = 10**15 #eV\n",
    "maxE = 10**18 #eV\n",
    "gamma = -2.5 # slope of the spectrum\n",
    "\n",
    "#relation between energy and s38\n",
    "A = 10**12\n",
    "B = 1.2\n",
    "\n",
    "#attenuation true numbers\n",
    "alpha = 0.919\n",
    "beta = -1.13\n",
    "\n",
    "# Minimum zenith angle in degrees\n",
    "minTheta = 50\n",
    "\n",
    "#number of events to generate\n",
    "events = 10000\n",
    "#number of bins for the zenith \n",
    "nr_of_bins = 8\n",
    "\n",
    "data = generate_toy_data(events, minE, maxE, gamma, A, B, alpha, beta, minTheta)\n",
    "\n",
    "#print(data)"
   ]
  },
  {
   "cell_type": "code",
   "execution_count": 3,
   "metadata": {},
   "outputs": [
    {
     "data": {
      "text/plain": [
       "(array([ 97.,  94.,  74., 104., 101., 113.,  89., 105.,  94., 100.,  95.,\n",
       "        116., 117., 103.,  93., 123.,  92.,  94., 112.,  96., 100.,  89.,\n",
       "         95.,  90., 116., 129.,  88., 104.,  93.,  89.,  95.,  73.,  83.,\n",
       "         94.,  89., 104., 106., 105.,  91.,  97.,  92., 107.,  90., 104.,\n",
       "        107., 105.,  94., 103., 102., 109.,  93., 108.,  81.,  97., 117.,\n",
       "        105., 107., 115., 110.,  97., 115., 109., 106.,  83.,  88., 114.,\n",
       "        111., 101.,  83.,  98., 114., 104.,  92., 104.,  84.,  95.,  93.,\n",
       "        102., 114., 108., 108., 107., 104.,  92., 103.,  96.,  93., 109.,\n",
       "         98.,  92.,  87., 128., 100.,  89., 109., 107.,  88.,  92., 106.,\n",
       "         89.]),\n",
       " array([0.41319854, 0.41906637, 0.4249342 , 0.43080204, 0.43666987,\n",
       "        0.4425377 , 0.44840554, 0.45427337, 0.4601412 , 0.46600904,\n",
       "        0.47187687, 0.4777447 , 0.48361254, 0.48948037, 0.4953482 ,\n",
       "        0.50121604, 0.50708387, 0.5129517 , 0.51881953, 0.52468737,\n",
       "        0.5305552 , 0.53642303, 0.54229087, 0.5481587 , 0.55402653,\n",
       "        0.55989437, 0.5657622 , 0.57163003, 0.57749787, 0.5833657 ,\n",
       "        0.58923353, 0.59510136, 0.6009692 , 0.60683703, 0.61270486,\n",
       "        0.6185727 , 0.62444053, 0.63030836, 0.6361762 , 0.64204403,\n",
       "        0.64791186, 0.6537797 , 0.65964753, 0.66551536, 0.6713832 ,\n",
       "        0.67725103, 0.68311886, 0.68898669, 0.69485453, 0.70072236,\n",
       "        0.70659019, 0.71245803, 0.71832586, 0.72419369, 0.73006153,\n",
       "        0.73592936, 0.74179719, 0.74766503, 0.75353286, 0.75940069,\n",
       "        0.76526853, 0.77113636, 0.77700419, 0.78287202, 0.78873986,\n",
       "        0.79460769, 0.80047552, 0.80634336, 0.81221119, 0.81807902,\n",
       "        0.82394686, 0.82981469, 0.83568252, 0.84155036, 0.84741819,\n",
       "        0.85328602, 0.85915386, 0.86502169, 0.87088952, 0.87675735,\n",
       "        0.88262519, 0.88849302, 0.89436085, 0.90022869, 0.90609652,\n",
       "        0.91196435, 0.91783219, 0.92370002, 0.92956785, 0.93543569,\n",
       "        0.94130352, 0.94717135, 0.95303919, 0.95890702, 0.96477485,\n",
       "        0.97064268, 0.97651052, 0.98237835, 0.98824618, 0.99411402,\n",
       "        0.99998185]),\n",
       " <a list of 100 Patch objects>)"
      ]
     },
     "execution_count": 3,
     "metadata": {},
     "output_type": "execute_result"
    },
    {
     "data": {
      "image/png": "[encoded data removed]",
      "text/plain": [
       "<matplotlib.figure.Figure at 0x7fda68f0f630>"
      ]
     },
     "metadata": {},
     "output_type": "display_data"
    }
   ],
   "source": [
    "fig1, ax1 =plt.subplots(figsize=(10,6))\n",
    "\n",
    "ax1.hist(data.cos2,bins=100 )\n"
   ]
  },
  {
   "cell_type": "code",
   "execution_count": 4,
   "metadata": {},
   "outputs": [
    {
     "ename": "ValueError",
     "evalue": "labels ['level_0'] not contained in axis",
     "output_type": "error",
     "traceback": [
      "\u001b[0;31m---------------------------------------------------------------------------\u001b[0m",
      "\u001b[0;31mValueError\u001b[0m                                Traceback (most recent call last)",
      "\u001b[0;32m<ipython-input-4-cf3c083420a7>\u001b[0m in \u001b[0;36m<module>\u001b[0;34m()\u001b[0m\n\u001b[1;32m      1\u001b[0m \u001b[0;31m#### fit the attenuation curve\u001b[0m\u001b[0;34m\u001b[0m\u001b[0;34m\u001b[0m\u001b[0m\n\u001b[0;32m----> 2\u001b[0;31m \u001b[0mdata\u001b[0m\u001b[0;34m,\u001b[0m\u001b[0mgroups\u001b[0m \u001b[0;34m=\u001b[0m \u001b[0mset_intensity\u001b[0m\u001b[0;34m(\u001b[0m\u001b[0mdata\u001b[0m\u001b[0;34m,\u001b[0m \u001b[0mnr_of_bins\u001b[0m\u001b[0;34m,\u001b[0m \u001b[0mvariable\u001b[0m\u001b[0;34m=\u001b[0m\u001b[0;34m's125'\u001b[0m\u001b[0;34m)\u001b[0m\u001b[0;34m\u001b[0m\u001b[0m\n\u001b[0m\u001b[1;32m      3\u001b[0m \u001b[0;31m#print(groups.size())\u001b[0m\u001b[0;34m\u001b[0m\u001b[0;34m\u001b[0m\u001b[0m\n\u001b[1;32m      4\u001b[0m \u001b[0mprint\u001b[0m\u001b[0;34m(\u001b[0m\u001b[0mgroups\u001b[0m\u001b[0;34m.\u001b[0m\u001b[0menergy\u001b[0m\u001b[0;34m.\u001b[0m\u001b[0mget_group\u001b[0m\u001b[0;34m(\u001b[0m\u001b[0;36m7\u001b[0m\u001b[0;34m)\u001b[0m\u001b[0;34m)\u001b[0m\u001b[0;34m\u001b[0m\u001b[0m\n\u001b[1;32m      5\u001b[0m \u001b[0;34m\u001b[0m\u001b[0m\n",
      "\u001b[0;32m~/stage/cic_att/data_functions.py\u001b[0m in \u001b[0;36mset_intensity\u001b[0;34m(data, n_bins, variable)\u001b[0m\n\u001b[1;32m     91\u001b[0m         \u001b[0mtest\u001b[0m\u001b[0;34m.\u001b[0m\u001b[0msort_values\u001b[0m\u001b[0;34m(\u001b[0m\u001b[0;34m[\u001b[0m\u001b[0mvariable\u001b[0m\u001b[0;34m]\u001b[0m\u001b[0;34m,\u001b[0m \u001b[0mascending\u001b[0m\u001b[0;34m=\u001b[0m\u001b[0;32mFalse\u001b[0m\u001b[0;34m,\u001b[0m \u001b[0minplace\u001b[0m \u001b[0;34m=\u001b[0m \u001b[0;32mTrue\u001b[0m\u001b[0;34m)\u001b[0m\u001b[0;34m\u001b[0m\u001b[0m\n\u001b[1;32m     92\u001b[0m         \u001b[0mtest\u001b[0m\u001b[0;34m.\u001b[0m\u001b[0mreset_index\u001b[0m\u001b[0;34m(\u001b[0m\u001b[0minplace\u001b[0m\u001b[0;34m=\u001b[0m\u001b[0;32mTrue\u001b[0m\u001b[0;34m)\u001b[0m\u001b[0;34m\u001b[0m\u001b[0m\n\u001b[0;32m---> 93\u001b[0;31m         \u001b[0mtest\u001b[0m\u001b[0;34m.\u001b[0m\u001b[0mdrop\u001b[0m\u001b[0;34m(\u001b[0m\u001b[0;34m[\u001b[0m\u001b[0;34m'index'\u001b[0m\u001b[0;34m,\u001b[0m \u001b[0;34m'level_0'\u001b[0m\u001b[0;34m]\u001b[0m\u001b[0;34m,\u001b[0m \u001b[0maxis\u001b[0m\u001b[0;34m=\u001b[0m \u001b[0;36m1\u001b[0m\u001b[0;34m,\u001b[0m \u001b[0minplace\u001b[0m\u001b[0;34m=\u001b[0m\u001b[0;32mTrue\u001b[0m\u001b[0;34m)\u001b[0m\u001b[0;34m\u001b[0m\u001b[0m\n\u001b[0m\u001b[1;32m     94\u001b[0m         \u001b[0mdata\u001b[0m\u001b[0;34m.\u001b[0m\u001b[0mloc\u001b[0m\u001b[0;34m[\u001b[0m\u001b[0minitial_ind\u001b[0m\u001b[0;34m,\u001b[0m \u001b[0;34m'I'\u001b[0m\u001b[0;34m]\u001b[0m \u001b[0;34m=\u001b[0m \u001b[0mtest\u001b[0m\u001b[0;34m.\u001b[0m\u001b[0mindex\u001b[0m\u001b[0;34m.\u001b[0m\u001b[0mtolist\u001b[0m\u001b[0;34m(\u001b[0m\u001b[0;34m)\u001b[0m\u001b[0;34m\u001b[0m\u001b[0m\n\u001b[1;32m     95\u001b[0m         \u001b[0;31m#values = group['s125'].apply(lambda x: group[group['s125'] > x].count())\u001b[0m\u001b[0;34m\u001b[0m\u001b[0;34m\u001b[0m\u001b[0m\n",
      "\u001b[0;32m~/anaconda3/lib/python3.6/site-packages/pandas/core/generic.py\u001b[0m in \u001b[0;36mdrop\u001b[0;34m(self, labels, axis, level, inplace, errors)\u001b[0m\n\u001b[1;32m   2159\u001b[0m                 \u001b[0mnew_axis\u001b[0m \u001b[0;34m=\u001b[0m \u001b[0maxis\u001b[0m\u001b[0;34m.\u001b[0m\u001b[0mdrop\u001b[0m\u001b[0;34m(\u001b[0m\u001b[0mlabels\u001b[0m\u001b[0;34m,\u001b[0m \u001b[0mlevel\u001b[0m\u001b[0;34m=\u001b[0m\u001b[0mlevel\u001b[0m\u001b[0;34m,\u001b[0m \u001b[0merrors\u001b[0m\u001b[0;34m=\u001b[0m\u001b[0merrors\u001b[0m\u001b[0;34m)\u001b[0m\u001b[0;34m\u001b[0m\u001b[0m\n\u001b[1;32m   2160\u001b[0m             \u001b[0;32melse\u001b[0m\u001b[0;34m:\u001b[0m\u001b[0;34m\u001b[0m\u001b[0m\n\u001b[0;32m-> 2161\u001b[0;31m                 \u001b[0mnew_axis\u001b[0m \u001b[0;34m=\u001b[0m \u001b[0maxis\u001b[0m\u001b[0;34m.\u001b[0m\u001b[0mdrop\u001b[0m\u001b[0;34m(\u001b[0m\u001b[0mlabels\u001b[0m\u001b[0;34m,\u001b[0m \u001b[0merrors\u001b[0m\u001b[0;34m=\u001b[0m\u001b[0merrors\u001b[0m\u001b[0;34m)\u001b[0m\u001b[0;34m\u001b[0m\u001b[0m\n\u001b[0m\u001b[1;32m   2162\u001b[0m             \u001b[0mdropped\u001b[0m \u001b[0;34m=\u001b[0m \u001b[0mself\u001b[0m\u001b[0;34m.\u001b[0m\u001b[0mreindex\u001b[0m\u001b[0;34m(\u001b[0m\u001b[0;34m**\u001b[0m\u001b[0;34m{\u001b[0m\u001b[0maxis_name\u001b[0m\u001b[0;34m:\u001b[0m \u001b[0mnew_axis\u001b[0m\u001b[0;34m}\u001b[0m\u001b[0;34m)\u001b[0m\u001b[0;34m\u001b[0m\u001b[0m\n\u001b[1;32m   2163\u001b[0m             \u001b[0;32mtry\u001b[0m\u001b[0;34m:\u001b[0m\u001b[0;34m\u001b[0m\u001b[0m\n",
      "\u001b[0;32m~/anaconda3/lib/python3.6/site-packages/pandas/core/indexes/base.py\u001b[0m in \u001b[0;36mdrop\u001b[0;34m(self, labels, errors)\u001b[0m\n\u001b[1;32m   3622\u001b[0m             \u001b[0;32mif\u001b[0m \u001b[0merrors\u001b[0m \u001b[0;34m!=\u001b[0m \u001b[0;34m'ignore'\u001b[0m\u001b[0;34m:\u001b[0m\u001b[0;34m\u001b[0m\u001b[0m\n\u001b[1;32m   3623\u001b[0m                 raise ValueError('labels %s not contained in axis' %\n\u001b[0;32m-> 3624\u001b[0;31m                                  labels[mask])\n\u001b[0m\u001b[1;32m   3625\u001b[0m             \u001b[0mindexer\u001b[0m \u001b[0;34m=\u001b[0m \u001b[0mindexer\u001b[0m\u001b[0;34m[\u001b[0m\u001b[0;34m~\u001b[0m\u001b[0mmask\u001b[0m\u001b[0;34m]\u001b[0m\u001b[0;34m\u001b[0m\u001b[0m\n\u001b[1;32m   3626\u001b[0m         \u001b[0;32mreturn\u001b[0m \u001b[0mself\u001b[0m\u001b[0;34m.\u001b[0m\u001b[0mdelete\u001b[0m\u001b[0;34m(\u001b[0m\u001b[0mindexer\u001b[0m\u001b[0;34m)\u001b[0m\u001b[0;34m\u001b[0m\u001b[0m\n",
      "\u001b[0;31mValueError\u001b[0m: labels ['level_0'] not contained in axis"
     ]
    }
   ],
   "source": [
    "#### fit the attenuation curve\n",
    "data,groups = set_intensity(data, nr_of_bins, variable='s125')      \n",
    "#print(groups.size()) \n",
    "print(groups.energy.get_group(7))\n",
    "\n",
    "fig2, ax2 =plt.subplots(figsize=(10,6))\n",
    "groups.energy.plot.hist(bins=100,alpha=0.6,legend=True)\n",
    "ax2.set_xlim(0,1.2*10**16)\n",
    "plt.xlabel('energy')\n",
    "plt.ylabel('number of events')\n",
    "plt.title('number of events vs energy')\n",
    "    \n",
    "    \n",
    "### input value the reference intensity\n",
    "intensity = 100\n",
    "vals, s125_fit, bins2 , s125_fit_error= get_data_to_fit(data, intensity, nr_of_bins)\n",
    "#print(bins2)\n",
    "values, cov = get_attenuation_parameters(s125_fit, bins2)\n",
    "\n",
    "#print(values)"
   ]
  },
  {
   "cell_type": "code",
   "execution_count": null,
   "metadata": {
    "collapsed": false,
    "scrolled": false
   },
   "outputs": [],
   "source": [
    "for name, group in groups:\n",
    "    fig, axe =plt.subplots()\n",
    "    group.energy.plot.hist(bins=50,alpha=0.8,legend=True)\n",
    "    axe.set_xlim(0,1.2*10**16)\n",
    "    plt.xlabel('energy')\n",
    "    plt.ylabel('number of events')\n",
    "    plt.title('number of events vs energy')"
   ]
  },
  {
   "cell_type": "code",
   "execution_count": null,
   "metadata": {
    "collapsed": false
   },
   "outputs": [],
   "source": [
    "\n",
    "fig2, ax2 =plt.subplots(figsize=(10,6))\n",
    "plt.grid()\n",
    "from utils import get_s125 \n",
    "a1=values[0]\n",
    "a2=values[1]\n",
    "a3=values[2]\n",
    "y=get_s125(bins2, a1,a2,a3)\n",
    "y2=get_s125(bins2, alpha, beta, a3)\n",
    "\n",
    "ax2.plot(bins2, s125_fit, lw=0, marker='o')\n",
    "ax2.plot(bins2,y, color=\"r\")\n",
    "ax2.plot(bins2,y2)"
   ]
  },
  {
   "cell_type": "code",
   "execution_count": null,
   "metadata": {
    "collapsed": false,
    "scrolled": false
   },
   "outputs": [],
   "source": [
    "#groups = dict(list(data))\n",
    "#print(groups)\n",
    "fig, ax =plt.subplots(figsize=(8,5))\n",
    "for label, group in groups:\n",
    "    group.plot(x='s125',y='I',logx=True,logy=True,legend=True, c='c',ax=ax,label=label, kind='scatter')\n",
    "plt.xlabel('s125')\n",
    "plt.ylabel('intensity')\n",
    "plt.title('intensity vs s125')\n",
    "plt.legend()\n"
   ]
  },
  {
   "cell_type": "code",
   "execution_count": null,
   "metadata": {
    "collapsed": false
   },
   "outputs": [],
   "source": [
    "fig1, ax1 =plt.subplots(figsize=(10,6))\n",
    "ax1.plot(np.log10(data.s125),data.I, lw=0, marker='o' )\n",
    "ax1.set_yscale('log')\n",
    "ax1.set_xlim(2,4)"
   ]
  },
  {
   "cell_type": "code",
   "execution_count": null,
   "metadata": {},
   "outputs": [],
   "source": [
    "fig, ax =plt.subplots(figsize=(8,5))\n",
    "for label, group in groups:\n",
    "    group.plot(x='s125',y='I',logx=True,logy=True,legend=True, ax=ax,label=label, kind='scatter')\n",
    "plt.xlabel('s125')\n",
    "plt.ylabel('intensity')\n",
    "plt.title('intensity vs s125')\n",
    "plt.legend()"
   ]
  },
  {
   "cell_type": "code",
   "execution_count": null,
   "metadata": {},
   "outputs": [],
   "source": [
    "#s125 in fct of cos2 and zenith\n",
    "fig, ax =plt.subplots(figsize=(8,5))\n",
    "for label, group in groups:\n",
    "    group.plot(x='cos2',y='s125',legend=True, ax=ax,label=label, kind='scatter')\n",
    "    group.plot(x='zenith', y='s125', legend=True, c='c',ax=ax,label=label, kind='scatter')\n",
    "plt.xlabel('cos2')\n",
    "plt.ylabel('s125')\n",
    "plt.title('s125 vs cos2')\n",
    "plt.legend()\n"
   ]
  },
  {
   "cell_type": "code",
   "execution_count": null,
   "metadata": {},
   "outputs": [],
   "source": [
    "### number of boostrap samples as input\n",
    "\n",
    "intensity2=[100,200,300]\n",
    "samples = 2\n",
    "from data_functions import get_s125\n",
    "\n",
    "fig2, ax2 = plt.subplots(figsize=(10,6))\n",
    "plt.grid()\n",
    "a=[alpha,beta,1]\n",
    "bootstrap_values=[]\n",
    "bootstrap_values_2=[]\n",
    "fitted_data=pd.DataFrame([])\n",
    "#fitted_data['bs125']=[]\n",
    "for j in range(0, samples):\n",
    "    new_data = get_bootstrap_data(data)\n",
    "    new_data=set_intensity(new_data, nr_of_bins)\n",
    "    print(new_data)\n",
    "    for i in range(len(intensity2)):\n",
    "        val, s125_fit, bins, s125_fit_error = get_data_to_fit(new_data, intensity2[i], nr_of_bins)\n",
    "        val[\"sample\"]=j\n",
    "        val[\"bins\"]=np.digitize(bins, bins) \n",
    "        fitted_data=fitted_data.append(val)\n",
    "        vals, cov_bt = get_attenuation_parameters(s125_fit, bins)\n",
    "        bootstrap_values.append(vals)\n",
    "        bootstrap_values_2.append(vals**2)\n",
    "        ax2.plot(bins, s125_fit, lw=0, marker='o')\n",
    "        ax2.plot(bins, get_s125(bins, vals[0], vals[1], vals[2]))\n",
    "    print(vals)"
   ]
  },
  {
   "cell_type": "code",
   "execution_count": null,
   "metadata": {},
   "outputs": [],
   "source": [
    "I0=fitted_data.loc[fitted_data.I==100]\n",
    "nb_bins=I0.bins.max()-I0.bins.min()+1\n",
    "for i,j in enumerate(intensity2):\n",
    "    I0=fitted_data.loc[fitted_data.I==j]\n",
    "    nb_bins=I0.bins.max()-I0.bins.min()+1\n",
    "    for k in range(1,nb_bins):\n",
    "        df=fitted_data.loc[fitted_data.bins==k]\n",
    "        df = df.loc[df.I == j]\n",
    "    print(df)\n",
    "    print(df.s125.var())\n",
    "\n"
   ]
  },
  {
   "cell_type": "code",
   "execution_count": null,
   "metadata": {
    "collapsed": true
   },
   "outputs": [],
   "source": [
    "### number of boostrap samples as input\n",
    "samples = 2\n",
    "from data_funcs import get_s125\n",
    "\n",
    "fig2, ax2 = plt.subplots(figsize=(10,6))\n",
    "plt.grid()\n",
    "a=[alpha,beta,1]\n",
    "bootstrap_values=[]\n",
    "bootstrap_values_2=[]\n",
    "for j in range(0, samples):\n",
    "    new_data = get_bootstrap_data(data)\n",
    "    new_data=set_intensity(new_data, nr_of_bins)\n",
    "    s125_fit, bins, s38_fit, s125_fit_error = get_data_to_fit(new_data, intensity, nr_of_bins)\n",
    "    vals, cov_bt = get_attenuation_parameters(s125_fit, bins)\n",
    "    bootstrap_values.append(vals)\n",
    "    bootstrap_values_2.append(vals**2)\n",
    "    ax2.plot(bins, s125_fit, lw=0, marker='o')\n",
    "    ax2.plot(bins, get_s125(bins, vals[0], vals[1], vals[2]))\n",
    "    print(vals)\n"
   ]
  },
  {
   "cell_type": "markdown",
   "metadata": {},
   "source": [
    "Things to do:\n",
    "1. From the bootstrap get all the values and plot them in an histogram and one vs each other (in one canvas)\n",
    "2. Give final results: values(from original data) +- rms(vals)\n",
    "3. Implement MCMC fit in the get_attenuation_parameters function\n",
    "4. Compare results with 2.\n",
    "5. See/write to Ioana/Zig"
   ]
  },
  {
   "cell_type": "code",
   "execution_count": null,
   "metadata": {
    "collapsed": true
   },
   "outputs": [],
   "source": [
    "from data_funcs import get_attenuation_parameters2\n",
    "\n",
    "params_scipy, cov2 = sp.optimize.curve_fit(get_s125, bins, s125_fit)\n",
    "# Use as guess\n",
    "a_true = params_scipy[0]\n",
    "b_true = params_scipy[1]\n",
    "f_true = params_scipy[2]\n",
    "\n",
    "#final_parameters, cov2, sample = get_attenuation_parameters2(s125_fit, s38_fit, s125_fit_error, bins, performMCMC=True)\n",
    "sample = get_attenuation_parameters2(params_scipy, s125_fit, s125_fit_error, bins)"
   ]
  },
  {
   "cell_type": "code",
   "execution_count": null,
   "metadata": {
    "collapsed": true
   },
   "outputs": [],
   "source": [
    "import math\n",
    "cos_ref = np.cos(math.radians(38))**2\n",
    "cos2 = bins - cos_ref\n",
    "# Plot a subset of the samples\n",
    "for a, b, f in sample[np.random.randint(len(sample), size=100)]:\n",
    "    plt.plot(cos2, f * (b * cos2**2 + a * cos2 + 1), color=\"k\", alpha=0.1)\n",
    "    plt.plot(cos2, f_true * (b_true * cos2**2 + a_true * cos2 + 1), color=\"r\", lw=2, alpha=0.8)\n",
    "    plt.errorbar(cos2, y, yerr=s125_fit_error, fmt=\".k\")"
   ]
  },
  {
   "cell_type": "code",
   "execution_count": null,
   "metadata": {
    "collapsed": true
   },
   "outputs": [],
   "source": [
    "import corner\n",
    "fig = corner.corner(sample, labels=[\"$a$\",\"$b$\", \"$s38$\"], truths=[alpha,beta, a3])\n",
    "fig.savefig(\"\")"
   ]
  },
  {
   "cell_type": "code",
   "execution_count": null,
   "metadata": {
    "collapsed": true
   },
   "outputs": [],
   "source": [
    "a_mcmc,  b_mcmc,  s38_mcmc  = map(lambda v: (v[1], v[2]-v[1], v[1]-v[0]),\n",
    "                             zip(*np.percentile(sample, [16, 50, 84],\n",
    "                                                axis=0)))\n",
    "\n",
    "#(mid_value, +error, -error)\n",
    "print(\"a = %f + %f - %f\\n\"%(a_mcmc[0],a_mcmc[1],a_mcmc[2]))\n",
    "print(\"b = %f + %f - %f\\n\"%(b_mcmc[0],b_mcmc[1],b_mcmc[2]))\n",
    "print(\"s38 = %f + %f - %f\\n\"%(s38_mcmc[0],s38_mcmc[1],s38_mcmc[2]))"
   ]
  },
  {
   "cell_type": "code",
   "execution_count": null,
   "metadata": {
    "collapsed": true
   },
   "outputs": [],
   "source": []
  }
 ],
 "metadata": {
  "kernelspec": {
   "display_name": "Python 3",
   "language": "python",
   "name": "python3"
  },
  "language_info": {
   "codemirror_mode": {
    "name": "ipython",
    "version": 3
   },
   "file_extension": ".py",
   "mimetype": "text/x-python",
   "name": "python",
   "nbconvert_exporter": "python",
   "pygments_lexer": "ipython3",
   "version": "3.5.4"
  }
 },
 "nbformat": 4,
 "nbformat_minor": 1
}
