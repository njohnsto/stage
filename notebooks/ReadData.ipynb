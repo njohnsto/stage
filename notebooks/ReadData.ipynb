{
 "cells": [
  {
   "cell_type": "markdown",
   "metadata": {},
   "source": [
    "# A first look at data\n",
    "\n",
    "date: 12/04/2018\n",
    "\n",
    "Example code for reading and checking data\n"
   ]
  },
  {
   "cell_type": "code",
   "execution_count": 2,
   "metadata": {
    "collapsed": true
   },
   "outputs": [],
   "source": [
    "import pandas as pd\n",
    "import dask.dataframe as dd\n",
    "import glob as glob\n",
    "import numpy as np\n",
    "from scipy.stats import kde\n",
    "import os\n",
    "\n",
    "filepath='/home/ioana/src/icecube/Noemi/stage/cic_att' \n",
    "os.chdir(filepath)\n",
    "%run data_functions.py\n",
    "from data_functions import obtain_attenuation\n",
    "\n",
    "import matplotlib.pyplot as plt\n",
    "%matplotlib inline \n",
    "from matplotlib.colors import LogNorm\n",
    "plt.rc('font', size=16)\n",
    "plt.rcParams['figure.figsize'] = (10.0, 10.0)    # resize plots"
   ]
  },
  {
   "cell_type": "markdown",
   "metadata": {},
   "source": [
    "This is the part that reads data and makes a basic selection"
   ]
  },
  {
   "cell_type": "code",
   "execution_count": 3,
   "metadata": {
    "collapsed": false
   },
   "outputs": [
    {
     "name": "stdout",
     "output_type": "stream",
     "text": [
      "You have selected 37382 events\n"
     ]
    }
   ],
   "source": [
    "df = pd.DataFrame()\n",
    "df = pd.read_hdf('/data/IceCube/merged2015.h5', key='data')\n",
    "df['cos2'] = np.cos(df.zenith)**2\n",
    "df['I'] = 0\n",
    "df['s125_error'] = 0.1*df['s125']\n",
    "\n",
    "df.drop(df.columns.difference(['s125', 's125_error',\"cos2\", \"I\",\"zenith\"]), 1, inplace= True)\n",
    "df= df.loc[df.s125>25]\n",
    "df= df.loc[df.cos2>0.5]  \n",
    "df.reset_index(inplace=True)\n",
    "print('You have selected {} events'.format(df.s125.count()))\n",
    "\n"
   ]
  },
  {
   "cell_type": "code",
   "execution_count": null,
   "metadata": {
    "collapsed": false
   },
   "outputs": [],
   "source": [
    "n_bins = 10\n",
    "intensity = 200\n",
    "samples = 100\n",
    "\n",
    "fit_results, fitted_data = obtain_attenuation(df, n_bins, intensity, samples )"
   ]
  },
  {
   "cell_type": "code",
   "execution_count": null,
   "metadata": {
    "collapsed": false,
    "scrolled": true
   },
   "outputs": [],
   "source": [
    "import math\n",
    "groups = fitted_data\n",
    "sample = fit_results\n",
    "cos_ref = np.cos(math.radians(25))**2\n",
    "cos2 = np.linspace(0.5, 1, 20)-cos_ref\n",
    "\n",
    "a_mcmc,  b_mcmc,  s38_mcmc  = map(lambda v: (v[1], v[2]-v[1], v[1]-v[0]),\n",
    "                                  zip(*np.percentile(sample, [16, 50, 84],\n",
    "                                      axis=0)))\n",
    "\n",
    "#(mid_value, +error, -error)\n",
    "print(\"a = %f + %f - %f\\n\"%(a_mcmc[0],a_mcmc[1],a_mcmc[2]))\n",
    "print(\"b = %f + %f - %f\\n\"%(b_mcmc[0],b_mcmc[1],b_mcmc[2]))\n",
    "print(\"s_ref = %f + %f - %f\\n\"%(s38_mcmc[0],s38_mcmc[1],s38_mcmc[2]))\n",
    "\n",
    "# Plot a subset of the samples\n",
    "plt.errorbar(groups.cos2.mean()-cos_ref, groups.s125.mean(), yerr= groups.s125.std().tolist(), fmt=\".k\")\n",
    "for a, b, f in sample[np.random.randint(len(sample), size=250)]:\n",
    "    plt.plot(cos2, f * (b * cos2**2 + a * cos2 + 1), color=\"b\", alpha=0.03)\n",
    "    plt.plot(cos2, s38_mcmc[0] * (b_mcmc[0] * cos2**2 + a_mcmc[0] * cos2 + 1), color=\"b\", lw=0.5, alpha=0.8)\n",
    "plt.errorbar(groups.cos2.mean()-cos_ref, groups.s125.mean(), yerr= groups.s125.std().tolist(), fmt=\".k\")"
   ]
  },
  {
   "cell_type": "code",
   "execution_count": null,
   "metadata": {
    "collapsed": false
   },
   "outputs": [],
   "source": [
    "import corner\n",
    "fig = corner.corner(sample, labels=[\"$a$\",\"$b$\", \"$s_{ref}$\"], quantiles=[0.16, 0.84],\n",
    "                    show_titles=True, title_kwargs={\"fontsize\": 20}, color='b')\n",
    "#fig.savefig(\"\")\n",
    "a_mcmc,  b_mcmc,  s38_mcmc  = map(lambda v: (v[1], v[2]-v[1], v[1]-v[0]),\n",
    "                             zip(*np.percentile(sample, [16, 50, 84],\n",
    "                                                axis=0)))\n",
    "\n",
    "#(mid_value, +error, -error)\n",
    "print(\"a = %f + %f - %f\\n\"%(a_mcmc[0],a_mcmc[1],a_mcmc[2]))\n",
    "print(\"b = %f + %f - %f\\n\"%(b_mcmc[0],b_mcmc[1],b_mcmc[2]))\n",
    "print(\"s38 = %f + %f - %f\\n\"%(s38_mcmc[0],s38_mcmc[1],s38_mcmc[2]))"
   ]
  },
  {
   "cell_type": "code",
   "execution_count": null,
   "metadata": {
    "collapsed": false,
    "scrolled": true
   },
   "outputs": [],
   "source": [
    "fig2, ax2 =plt.subplots(figsize=(10,6))\n",
    "temp, groups = set_intensity(df, 4)\n",
    "for name, group in groups:\n",
    "    ax2.plot(np.log10(group.s125), group.I, \n",
    "             label='$theta$ = {}'.format(math.floor(math.degrees(group.zenith.mean()))))\n",
    "ax2.set_yscale(\"log\", nonposy='clip')\n",
    "plt.xlabel(\"$log_{10}(S_{125}/VEM)$\")\n",
    "plt.ylabel(\"Intensity  [a.u.]\")\n",
    "\n",
    "plt.legend()\n",
    "\n",
    "\n",
    "  "
   ]
  },
  {
   "cell_type": "code",
   "execution_count": null,
   "metadata": {
    "collapsed": false
   },
   "outputs": [],
   "source": [
    "%run data_functions.py\n",
    "from data_functions import set_intensity\n",
    "df['s38'] = df.s125/(b_mcmc[0] * (df.cos2-cos_ref)**2 + a_mcmc[0] * (df.cos2-cos_ref) + 1)\n",
    "\n",
    "print(df)\n",
    "temp, groups = set_intensity(df, 4, 's38')\n",
    "for name, group in groups:\n",
    "    ax2.plot(np.log10(group.s125), group.I, \n",
    "             label='$theta$ = {}'.format(math.floor(math.degrees(group.zenith.mean()))))\n",
    "ax2.set_yscale(\"log\", nonposy='clip')\n",
    "plt.xlabel(\"$log_{10}(S_{125}/VEM)$\")\n",
    "plt.ylabel(\"Intensity  [a.u.]\")\n",
    "\n",
    "plt.legend()"
   ]
  }
 ],
 "metadata": {
  "kernelspec": {
   "display_name": "Python 3",
   "language": "python",
   "name": "python3"
  },
  "language_info": {
   "codemirror_mode": {
    "name": "ipython",
    "version": 3
   },
   "file_extension": ".py",
   "mimetype": "text/x-python",
   "name": "python",
   "nbconvert_exporter": "python",
   "pygments_lexer": "ipython3",
   "version": "3.5.4"
  }
 },
 "nbformat": 4,
 "nbformat_minor": 1
}
