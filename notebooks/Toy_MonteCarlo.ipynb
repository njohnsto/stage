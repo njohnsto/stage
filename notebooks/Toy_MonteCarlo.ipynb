{
 "cells": [
  {
   "cell_type": "code",
   "execution_count": 1,
   "metadata": {
    "collapsed": true
   },
   "outputs": [],
   "source": [
    "import pandas as pd\n",
    "import dask.dataframe as dd\n",
    "import glob as glob\n",
    "import numpy as np\n",
    "from scipy.stats import kde\n",
    "\n",
    "import matplotlib.pyplot as plt\n",
    "%matplotlib inline \n",
    "from matplotlib.colors import LogNorm\n",
    "plt.rc('font', size=16)\n",
    "plt.rcParams['figure.figsize'] = (12.0, 10.0)    # resize plots"
   ]
  },
  {
   "cell_type": "code",
   "execution_count": 2,
   "metadata": {
    "collapsed": false
   },
   "outputs": [],
   "source": [
    "# input parameters for the simualtions\n",
    "\n",
    "input_parameters={\n",
    "    \"minE\": 10**15, #eV, \n",
    "    \"maxE\": 10**18, #eV,    \n",
    "    \"gamma\":  -2.5, # slope of the spectrum\n",
    "    #relation between energy and s38\n",
    "    \"A\": 10**12, #eV\n",
    "    \"B\": 1.2,\n",
    "    #attenuation true numbers\n",
    "    \"alpha\":0.5,\n",
    "    \"beta\": -3.0,\n",
    "    \"maxTheta\": 45 #degrees\n",
    "}\n",
    "## set the sid to generate exactly the same samples\n",
    "np.random.seed(10)  \n",
    "print(input_parameters)\n",
    "#number of events to generate\n",
    "events = 10000\n",
    "\n",
    "import os\n",
    "filepath='/home/ioana/src/icecube/Noemi/stage/cic_att' \n",
    "#filepath='/home/noemie/stage/cic_att' \n",
    "os.chdir(filepath)\n",
    "%run data_functions.py\n",
    "\n",
    "from data_functions import generate_toy_data\n",
    "\n",
    "data = generate_toy_data(events, input_parameters)\n"
   ]
  },
  {
   "cell_type": "code",
   "execution_count": null,
   "metadata": {
    "collapsed": false
   },
   "outputs": [],
   "source": [
    "###attenuation curve\n",
    "from data_functions import obtain_attenuation\n",
    "nr_of_bins = 10\n",
    "intensity = 500\n",
    "samples = 50\n",
    "import time\n",
    "start_time = time.time()\n",
    "\n",
    "fit_results, fitted_data = obtain_attenuation(data, nr_of_bins, intensity, samples)\n",
    "print(\"--- %s seconds ---\" % (time.time() - start_time))\n"
   ]
  },
  {
   "cell_type": "code",
   "execution_count": null,
   "metadata": {
    "collapsed": true
   },
   "outputs": [],
   "source": [
    "import math\n",
    "groups = fitted_data\n",
    "sample = fit_results\n",
    "cos_ref = np.cos(math.radians(25))**2\n",
    "cos2 = np.linspace(0.5, 1, 20)-cos_ref\n",
    "\n",
    "a_mcmc,  b_mcmc,  s38_mcmc  = map(lambda v: (v[1], v[2]-v[1], v[1]-v[0]),\n",
    "                                  zip(*np.percentile(sample, [16, 50, 84],\n",
    "                                      axis=0)))\n",
    "\n",
    "#(mid_value, +error, -error)\n",
    "print(\"a = %f + %f - %f\\n\"%(a_mcmc[0],a_mcmc[1],a_mcmc[2]))\n",
    "print(\"b = %f + %f - %f\\n\"%(b_mcmc[0],b_mcmc[1],b_mcmc[2]))\n",
    "print(\"s_ref = %f + %f - %f\\n\"%(s38_mcmc[0],s38_mcmc[1],s38_mcmc[2]))\n",
    "\n",
    "# Plot a subset of the samples\n",
    "plt.errorbar(groups.cos2.mean()-cos_ref, groups.s125.mean(), yerr= groups.s125.std().tolist(), fmt=\".k\")\n",
    "for a, b, f in sample[np.random.randint(len(sample), size=400)]:\n",
    "    plt.plot(cos2, f * (b * cos2**2 + a * cos2 + 1), color=\"b\", alpha=0.03)\n",
    "    plt.plot(cos2, s38_mcmc[0] * (b_mcmc[0] * cos2**2 + a_mcmc[0] * cos2 + 1), color=\"b\", lw=0.5, alpha=0.8)\n",
    "\n",
    "plt.plot(cos2, f * (input_parameters['beta'] * cos2**2 + input_parameters['alpha'] * cos2 + 1), color=\"r\", \n",
    "         alpha=1)\n",
    "plt.errorbar(groups.cos2.mean()-cos_ref, groups.s125.mean(), yerr= groups.s125.std().tolist(), fmt=\".k\")"
   ]
  },
  {
   "cell_type": "code",
   "execution_count": null,
   "metadata": {
    "collapsed": true
   },
   "outputs": [],
   "source": [
    "import corner\n",
    "\n",
    "true_vals = [input_parameters['alpha'], input_parameters['beta'], None]  \n",
    "fig = corner.corner(sample, truths=true_vals, truth_color='r',\n",
    "                    labels=[\"$a$\",\"$b$\", \"$s_{ref}$\"], quantiles=[0.16, 0.84],\n",
    "                    show_titles=True, title_kwargs={\"fontsize\": 20}, color='b')\n",
    "#fig.savefig(\"\")\n",
    "a_mcmc,  b_mcmc,  s38_mcmc  = map(lambda v: (v[1], v[2]-v[1], v[1]-v[0]),\n",
    "                             zip(*np.percentile(sample, [16, 50, 84],\n",
    "                                                axis=0)))\n",
    "\n",
    "#(mid_value, +error, -error)\n",
    "print(\"a = %f + %f - %f\\n\"%(a_mcmc[0],a_mcmc[1],a_mcmc[2]))\n",
    "print(\"b = %f + %f - %f\\n\"%(b_mcmc[0],b_mcmc[1],b_mcmc[2]))\n",
    "print(\"s38 = %f + %f - %f\\n\"%(s38_mcmc[0],s38_mcmc[1],s38_mcmc[2]))"
   ]
  },
  {
   "cell_type": "code",
   "execution_count": null,
   "metadata": {
    "collapsed": false
   },
   "outputs": [],
   "source": [
    "fig2, ax2 =plt.subplots(figsize=(10,6))\n",
    "temp, groups = set_intensity(data, 10)\n",
    "for name, group in groups:\n",
    "    ax2.plot(np.log10(group.s125), group.I, \n",
    "             label='$theta$ = {}'.format(math.floor(math.degrees(group.zenith.mean()))))\n",
    "ax2.set_yscale(\"log\", nonposy='clip')\n",
    "plt.xlabel(\"$log_{10}(S_{125}/VEM)$\")\n",
    "plt.ylabel(\"Intensity  [a.u.]\")\n",
    "plt.ylim(100, 1000)\n",
    "plt.legend()\n"
   ]
  },
  {
   "cell_type": "code",
   "execution_count": null,
   "metadata": {
    "collapsed": true
   },
   "outputs": [],
   "source": [
    "###plot a, b in fct of log(S_ref)\n",
    "\n",
    "for a, b, f in sample[np.random.randint(len(sample), size=250)]:\n",
    "    plt.plot(a,np.log10(f))"
   ]
  },
  {
   "cell_type": "code",
   "execution_count": null,
   "metadata": {
    "collapsed": true,
    "scrolled": false
   },
   "outputs": [],
   "source": [
    "%run data_functions.py\n",
    "from data_functions import set_intensity\n",
    "data['s38'] = data.s125/(b_mcmc[0] * (data.cos2-cos_ref)**2 + a_mcmc[0] * (data.cos2-cos_ref) + 1)\n",
    "\n",
    "print(data)\n",
    "temp, groups = set_intensity(data, 4, 's38')\n",
    "for name, group in groups:\n",
    "    ax2.plot(np.log10(group.s125), group.I, \n",
    "             label='$theta$ = {}'.format(math.floor(math.degrees(group.zenith.mean()))))\n",
    "ax2.set_yscale(\"log\", nonposy='clip')\n",
    "plt.xlabel(\"$log_{10}(S_{125}/VEM)$\")\n",
    "plt.ylabel(\"Intensity  [a.u.]\")\n",
    "\n",
    "plt.legend()"
   ]
  },
  {
   "cell_type": "code",
   "execution_count": null,
   "metadata": {
    "collapsed": true
   },
   "outputs": [],
   "source": []
  }
 ],
 "metadata": {
  "kernelspec": {
   "display_name": "Python 3",
   "language": "python",
   "name": "python3"
  },
  "language_info": {
   "codemirror_mode": {
    "name": "ipython",
    "version": 3
   },
   "file_extension": ".py",
   "mimetype": "text/x-python",
   "name": "python",
   "nbconvert_exporter": "python",
   "pygments_lexer": "ipython3",
   "version": "3.5.4"
  }
 },
 "nbformat": 4,
 "nbformat_minor": 2
}
