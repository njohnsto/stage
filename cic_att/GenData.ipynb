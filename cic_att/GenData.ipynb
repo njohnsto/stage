{
 "cells": [
  {
   "cell_type": "code",
   "execution_count": null,
   "metadata": {
    "collapsed": true
   },
   "outputs": [],
   "source": [
    "import numpy as np\n",
    "import scipy as sp\n",
    "import pandas as pd\n",
    "\n",
    "from scipy import optimize\n",
    "\n",
    "%matplotlib inline\n",
    "import matplotlib.pyplot as plt\n",
    "import matplotlib as mpt\n",
    "from data_functions import generate_toy_data, get_bootstrap_data, set_intensity, get_data_to_fit\n",
    "from data_functions import get_attenuation_parameters\n"
   ]
  },
  {
   "cell_type": "markdown",
   "metadata": {},
   "source": [
    "plots needed:\n",
    "- nb of events vs energy\n",
    "- "
   ]
  },
  {
   "cell_type": "code",
   "execution_count": null,
   "metadata": {
    "collapsed": true
   },
   "outputs": [],
   "source": [
    "# input parameters for the simualtions\n",
    "minE = 10**15 #eV\n",
    "maxE = 10**18 #eV\n",
    "gamma = -2.5 # slope of the spectrum\n",
    "\n",
    "#relation between energy and s38\n",
    "A = 10**12\n",
    "B = 1.2\n",
    "\n",
    "#attenuation true numbers\n",
    "alpha = 0.919\n",
    "beta = -1.13\n",
    "\n",
    "# Minimum zenith angle in degrees\n",
    "minTheta = 50\n",
    "\n",
    "#number of events to generate\n",
    "events = 10000\n",
    "#number of bins for the zenith \n",
    "nr_of_bins = 8\n",
    "\n",
    "data = generate_toy_data(events, minE, maxE, gamma, A, B, alpha, beta, minTheta)\n",
    "\n",
    "#print(data)"
   ]
  },
  {
   "cell_type": "code",
   "execution_count": null,
   "metadata": {
    "collapsed": false
   },
   "outputs": [],
   "source": [
    "fig1, ax1 =plt.subplots(figsize=(10,6))\n",
    "\n",
    "ax1.hist(data.cos2,bins=100 )\n"
   ]
  },
  {
   "cell_type": "code",
   "execution_count": null,
   "metadata": {
    "collapsed": false
   },
   "outputs": [],
   "source": [
    "#### fit the attenuation curve\n",
    "data,groups = set_intensity(data, nr_of_bins)      \n",
    "#print(groups.size()) \n",
    "print(groups.energy.get_group(7))\n",
    "\n",
    "fig2, ax2 =plt.subplots(figsize=(10,6))\n",
    "groups.energy.plot.hist(bins=100,alpha=0.6,legend=True)\n",
    "ax2.set_xlim(0,1.2*10**16)\n",
    "plt.xlabel('energy')\n",
    "plt.ylabel('number of events')\n",
    "plt.title('number of events vs energy')\n",
    "    \n",
    "    \n",
    "### input value the reference intensity\n",
    "intensity = 100\n",
    "vals, s125_fit, bins2 , s125_fit_error= get_data_to_fit(data, intensity, nr_of_bins)\n",
    "#print(bins2)\n",
    "values, cov = get_attenuation_parameters(s125_fit, bins2)\n",
    "\n",
    "#print(values)"
   ]
  },
  {
   "cell_type": "code",
   "execution_count": null,
   "metadata": {
    "collapsed": false,
    "scrolled": false
   },
   "outputs": [],
   "source": [
    "for name, group in groups:\n",
    "    fig, axe =plt.subplots()\n",
    "    group.energy.plot.hist(bins=50,alpha=0.8,legend=True)\n",
    "    axe.set_xlim(0,1.2*10**16)\n",
    "    plt.xlabel('energy')\n",
    "    plt.ylabel('number of events')\n",
    "    plt.title('number of events vs energy')"
   ]
  },
  {
   "cell_type": "code",
   "execution_count": null,
   "metadata": {
    "collapsed": false
   },
   "outputs": [],
   "source": [
    "\n",
    "fig2, ax2 =plt.subplots(figsize=(10,6))\n",
    "plt.grid()\n",
    "from utils import get_s125 \n",
    "a1=values[0]\n",
    "a2=values[1]\n",
    "a3=values[2]\n",
    "y=get_s125(bins2, a1,a2,a3)\n",
    "y2=get_s125(bins2, alpha, beta, a3)\n",
    "\n",
    "ax2.plot(bins2, s125_fit, lw=0, marker='o')\n",
    "ax2.plot(bins2,y, color=\"r\")\n",
    "ax2.plot(bins2,y2)"
   ]
  },
  {
   "cell_type": "code",
   "execution_count": null,
   "metadata": {
    "collapsed": false,
    "scrolled": false
   },
   "outputs": [],
   "source": [
    "#groups = dict(list(data))\n",
    "#print(groups)\n",
    "fig, ax =plt.subplots(figsize=(8,5))\n",
    "for label, group in groups:\n",
    "    group.plot(x='s125',y='I',logx=True,logy=True,legend=True, ax=ax,label=label, kind='scatter')\n",
    "plt.xlabel('s125')\n",
    "plt.ylabel('intensity')\n",
    "plt.title('intensity vs s125')\n",
    "plt.legend()\n"
   ]
  },
  {
   "cell_type": "code",
   "execution_count": null,
   "metadata": {
    "collapsed": false
   },
   "outputs": [],
   "source": [
    "fig1, ax1 =plt.subplots(figsize=(10,6))\n",
    "ax1.plot(np.log10(data.s125),data.I, lw=0, marker='o' )\n",
    "ax1.set_yscale('log')\n",
    "ax1.set_xlim(2,4)"
   ]
  },
  {
   "cell_type": "code",
   "execution_count": null,
   "metadata": {
    "collapsed": true
   },
   "outputs": [],
   "source": [
    "fig, ax =plt.subplots(figsize=(8,5))\n",
    "for label, group in groups:\n",
    "    group.plot(x='s125',y='I',logx=True,logy=True,legend=True, ax=ax,label=label, kind='scatter')\n",
    "plt.xlabel('s125')\n",
    "plt.ylabel('intensity')\n",
    "plt.title('intensity vs s125')\n",
    "plt.legend()"
   ]
  },
  {
   "cell_type": "code",
   "execution_count": null,
   "metadata": {
    "collapsed": true
   },
   "outputs": [],
   "source": [
    "### number of boostrap samples as input\n",
    "\n",
    "intensity2=[100,200,300]\n",
    "samples = 2\n",
    "from data_functions import get_s125\n",
    "\n",
    "fig2, ax2 = plt.subplots(figsize=(10,6))\n",
    "plt.grid()\n",
    "a=[alpha,beta,1]\n",
    "bootstrap_values=[]\n",
    "bootstrap_values_2=[]\n",
    "fitted_data=pd.DataFrame([])\n",
    "#fitted_data['bs125']=[]\n",
    "for j in range(0, samples):\n",
    "    new_data = get_bootstrap_data(data)\n",
    "    new_data=set_intensity(new_data, nr_of_bins)\n",
    "    for i in range(len(intensity2)):\n",
    "        val, s125_fit, bins, s125_fit_error = get_data_to_fit(new_data, intensity2[i], nr_of_bins)\n",
    "        val[\"sample\"]=j\n",
    "        val[\"bins\"]=np.digitize(bins, bins) \n",
    "        fitted_data=fitted_data.append(val)\n",
    "        vals, cov_bt = get_attenuation_parameters(s125_fit, bins)\n",
    "        bootstrap_values.append(vals)\n",
    "        bootstrap_values_2.append(vals**2)\n",
    "        ax2.plot(bins, s125_fit, lw=0, marker='o')\n",
    "        ax2.plot(bins, get_s125(bins, vals[0], vals[1], vals[2]))\n",
    "    print(vals)"
   ]
  },
  {
   "cell_type": "code",
   "execution_count": null,
   "metadata": {
    "collapsed": true
   },
   "outputs": [],
   "source": [
    "I0=fitted_data.loc[fitted_data.I==100]\n",
    "nb_bins=I0.bins.max()-I0.bins.min()+1\n",
    "for i,j in enumerate(intensity2):\n",
    "    I0=fitted_data.loc[fitted_data.I==j]\n",
    "    nb_bins=I0.bins.max()-I0.bins.min()+1\n",
    "    for k in range(1,nb_bins):\n",
    "        df=fitted_data.loc[fitted_data.bins==k]\n",
    "        df = df.loc[df.I == j]\n",
    "    print(df)\n",
    "    print(df.s125.var())\n",
    "\n"
   ]
  },
  {
   "cell_type": "code",
   "execution_count": null,
   "metadata": {
    "collapsed": true
   },
   "outputs": [],
   "source": [
    "### number of boostrap samples as input\n",
    "samples = 2\n",
    "from data_funcs import get_s125\n",
    "\n",
    "fig2, ax2 = plt.subplots(figsize=(10,6))\n",
    "plt.grid()\n",
    "a=[alpha,beta,1]\n",
    "bootstrap_values=[]\n",
    "bootstrap_values_2=[]\n",
    "for j in range(0, samples):\n",
    "    new_data = get_bootstrap_data(data)\n",
    "    new_data=set_intensity(new_data, nr_of_bins)\n",
    "    s125_fit, bins, s38_fit, s125_fit_error = get_data_to_fit(new_data, intensity, nr_of_bins)\n",
    "    vals, cov_bt = get_attenuation_parameters(s125_fit, bins)\n",
    "    bootstrap_values.append(vals)\n",
    "    bootstrap_values_2.append(vals**2)\n",
    "    ax2.plot(bins, s125_fit, lw=0, marker='o')\n",
    "    ax2.plot(bins, get_s125(bins, vals[0], vals[1], vals[2]))\n",
    "    print(vals)\n"
   ]
  },
  {
   "cell_type": "markdown",
   "metadata": {},
   "source": [
    "Things to do:\n",
    "1. From the bootstrap get all the values and plot them in an histogram and one vs each other (in one canvas)\n",
    "2. Give final results: values(from original data) +- rms(vals)\n",
    "3. Implement MCMC fit in the get_attenuation_parameters function\n",
    "4. Compare results with 2.\n",
    "5. See/write to Ioana/Zig"
   ]
  },
  {
   "cell_type": "code",
   "execution_count": null,
   "metadata": {
    "collapsed": true
   },
   "outputs": [],
   "source": [
    "from data_funcs import get_attenuation_parameters2\n",
    "\n",
    "params_scipy, cov2 = sp.optimize.curve_fit(get_s125, bins, s125_fit)\n",
    "# Use as guess\n",
    "a_true = params_scipy[0]\n",
    "b_true = params_scipy[1]\n",
    "f_true = params_scipy[2]\n",
    "\n",
    "#final_parameters, cov2, sample = get_attenuation_parameters2(s125_fit, s38_fit, s125_fit_error, bins, performMCMC=True)\n",
    "sample = get_attenuation_parameters2(params_scipy, s125_fit, s125_fit_error, bins)"
   ]
  },
  {
   "cell_type": "code",
   "execution_count": null,
   "metadata": {
    "collapsed": true
   },
   "outputs": [],
   "source": [
    "import math\n",
    "cos_ref = np.cos(math.radians(38))**2\n",
    "cos2 = bins - cos_ref\n",
    "# Plot a subset of the samples\n",
    "for a, b, f in sample[np.random.randint(len(sample), size=100)]:\n",
    "    plt.plot(cos2, f * (b * cos2**2 + a * cos2 + 1), color=\"k\", alpha=0.1)\n",
    "    plt.plot(cos2, f_true * (b_true * cos2**2 + a_true * cos2 + 1), color=\"r\", lw=2, alpha=0.8)\n",
    "    plt.errorbar(cos2, y, yerr=s125_fit_error, fmt=\".k\")"
   ]
  },
  {
   "cell_type": "code",
   "execution_count": null,
   "metadata": {
    "collapsed": true
   },
   "outputs": [],
   "source": [
    "import corner\n",
    "fig = corner.corner(sample, labels=[\"$a$\",\"$b$\", \"$s38$\"], truths=[alpha,beta, a3])\n",
    "fig.savefig(\"\")"
   ]
  },
  {
   "cell_type": "code",
   "execution_count": null,
   "metadata": {
    "collapsed": true
   },
   "outputs": [],
   "source": [
    "a_mcmc,  b_mcmc,  s38_mcmc  = map(lambda v: (v[1], v[2]-v[1], v[1]-v[0]),\n",
    "                             zip(*np.percentile(sample, [16, 50, 84],\n",
    "                                                axis=0)))\n",
    "\n",
    "#(mid_value, +error, -error)\n",
    "print(\"a = %f + %f - %f\\n\"%(a_mcmc[0],a_mcmc[1],a_mcmc[2]))\n",
    "print(\"b = %f + %f - %f\\n\"%(b_mcmc[0],b_mcmc[1],b_mcmc[2]))\n",
    "print(\"s38 = %f + %f - %f\\n\"%(s38_mcmc[0],s38_mcmc[1],s38_mcmc[2]))"
   ]
  },
  {
   "cell_type": "code",
   "execution_count": null,
   "metadata": {
    "collapsed": true
   },
   "outputs": [],
   "source": []
  }
 ],
 "metadata": {
  "kernelspec": {
   "display_name": "Python 3",
   "language": "python",
   "name": "python3"
  },
  "language_info": {
   "codemirror_mode": {
    "name": "ipython",
    "version": 3
   },
   "file_extension": ".py",
   "mimetype": "text/x-python",
   "name": "python",
   "nbconvert_exporter": "python",
   "pygments_lexer": "ipython3",
   "version": "3.5.4"
  }
 },
 "nbformat": 4,
 "nbformat_minor": 1
}
