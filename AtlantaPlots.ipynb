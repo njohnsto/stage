{
 "cells": [
  {
   "cell_type": "markdown",
   "metadata": {},
   "source": [
    "Needed plots ! no grids!\n",
    "  - events vs energy\n",
    "  - attenuation curve, i.e. S38 divided by s125 vs zenith angle (cos2) double axis: top zenith in degrees, bottom cos2\n",
    "  - Intensity vs s125 and intensity vs s38, small markers and different colors for each zenith, plos legend\n",
    "    "
   ]
  }
 ],
 "metadata": {
  "kernelspec": {
   "display_name": "Python 3",
   "language": "python",
   "name": "python3"
  },
  "language_info": {
   "codemirror_mode": {
    "name": "ipython",
    "version": 3
   },
   "file_extension": ".py",
   "mimetype": "text/x-python",
   "name": "python",
   "nbconvert_exporter": "python",
   "pygments_lexer": "ipython3",
   "version": "3.5.4"
  }
 },
 "nbformat": 4,
 "nbformat_minor": 0
}
