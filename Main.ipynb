{
 "cells": [
  {
   "cell_type": "code",
   "execution_count": null,
   "metadata": {
    "collapsed": true
   },
   "outputs": [],
   "source": [
    "import numpy as np\n",
    "import scipy as sp\n",
    "import pandas as pd\n",
    "\n",
    "from scipy import optimize\n",
    "\n",
    "%matplotlib inline \n",
    "import matplotlib.pyplot as plt\n",
    "\n",
    "from simul_functions import generate_toy_data, get_bootstrap_data, set_intensity, get_data_to_fit\n",
    "from simul_functions import get_attenuation_parameters\n"
   ]
  },
  {
   "cell_type": "code",
   "execution_count": null,
   "metadata": {
    "collapsed": true
   },
   "outputs": [],
   "source": [
    "# input parameters for the simualtions\n",
    "minE = 10**15 #eV\n",
    "maxE = 10**18 #eV\n",
    "gamma = -2.5 # slope of the spectrum\n",
    "\n",
    "#relation between energy and s38\n",
    "A = 10**12\n",
    "B = 1.2\n",
    "\n",
    "#attenuation true numbers\n",
    "alpha = 0.919\n",
    "beta = -1.13\n",
    "\n",
    "#number of events to generate\n",
    "events = 10000\n",
    "#number of bins for the zenith \n",
    "nr_of_bins = 8\n",
    "\n",
    "data = generate_toy_data(events, minE, maxE, gamma, A, B, alpha, beta)\n",
    "\n",
    "#print(data)"
   ]
  },
  {
   "cell_type": "code",
   "execution_count": null,
   "metadata": {},
   "outputs": [],
   "source": [
    "fig1, ax1 =plt.subplots(figsize=(10,6))\n",
    "plt.grid()\n",
    "\n",
    "ax1.hist(data.cos2,bins=100 )\n"
   ]
  },
  {
   "cell_type": "code",
   "execution_count": null,
   "metadata": {},
   "outputs": [],
   "source": [
    "#### fit the attenuation curve\n",
    "data = set_intensity(data, nr_of_bins)\n",
    "#print(data)        \n",
    "    \n",
    "### input value the reference intesity\n",
    "intensity = 100\n",
    "s125_fit, bins2, s38_fit , s125_fit_error= get_data_to_fit(data, intensity, nr_of_bins)\n",
    "print(bins2)\n",
    "values, cov = get_attenuation_parameters(s125_fit, bins2, performMCMC = False )\n",
    "\n",
    "print(values)"
   ]
  },
  {
   "cell_type": "code",
   "execution_count": null,
   "metadata": {},
   "outputs": [],
   "source": [
    "fig2, ax2 =plt.subplots(figsize=(10,6))\n",
    "plt.grid()\n",
    "from simul_functions import get_s125 \n",
    "a1=values[0]\n",
    "a2=values[1]\n",
    "a3=values[2]\n",
    "y=get_s125(bins2, a1,a2,a3)\n",
    "y2=get_s125(bins2, alpha, beta, a3)\n",
    "\n",
    "ax2.plot(bins2, s125_fit, lw=0, marker='o')\n",
    "ax2.plot(bins2,y)\n",
    "ax2.plot(bins2,y2)"
   ]
  },
  {
   "cell_type": "code",
   "execution_count": null,
   "metadata": {},
   "outputs": [],
   "source": [
    "#groups = dict(list(data))\n",
    "#print(groups)\n",
    "\n",
    "\n",
    "    \n",
    "fig1, ax1 =plt.subplots(figsize=(10,6))\n",
    "plt.grid()\n",
    "\n",
    "ax1.plot(np.log10(data.s125),data.I, lw=0, marker='o' )\n",
    "ax1.set_yscale('log')\n",
    "ax1.set_xlim(2,4)\n",
    "\n"
   ]
  },
  {
   "cell_type": "code",
   "execution_count": null,
   "metadata": {},
   "outputs": [],
   "source": [
    "### number of boostrap samples as input\n",
    "samples = 2\n",
    "from simul_functions import get_s125\n",
    "\n",
    "fig2, ax2 = plt.subplots(figsize=(10,6))\n",
    "plt.grid()\n",
    "a=[alpha,beta,1]\n",
    "bootstrap_values=[]\n",
    "bootstrap_values_2=[]\n",
    "for j in range(0, samples):\n",
    "    new_data = get_bootstrap_data(data)\n",
    "    new_data=set_intensity(new_data, nr_of_bins)\n",
    "    s125_fit, bins, s38_fit, s125_fit_error = get_data_to_fit(new_data, intensity, nr_of_bins)\n",
    "    vals, cov_bt = get_attenuation_parameters(s125_fit, bins, performMCMC = False )\n",
    "    bootstrap_values.append(vals)\n",
    "    bootstrap_values_2.append(vals**2)\n",
    "    ax2.plot(bins, s125_fit, lw=0, marker='o')\n",
    "    ax2.plot(bins, get_s125(bins,vals[0], vals[1], vals[2]))\n",
    "    print(vals)\n"
   ]
  },
  {
   "cell_type": "markdown",
   "metadata": {},
   "source": [
    "Things to do:\n",
    "1. From the bootstrap get all the values and plot them in an histogram and one vs each other (in one canvas)\n",
    "2. Give final results: values(from original data) +- rms(vals)\n",
    "3. Implement MCMC fit in the get_attenuation_parameters function\n",
    "4. Compare results with 2.\n",
    "5. See/write to Ioana/Zig"
   ]
  },
  {
   "cell_type": "code",
   "execution_count": null,
   "metadata": {},
   "outputs": [],
   "source": [
    "from simul_functions import bootstrap_graphs\n",
    "\n",
    "plot=bootstrap_graphs(bootstrap_values, alpha, beta)"
   ]
  },
  {
   "cell_type": "code",
   "execution_count": null,
   "metadata": {
    "collapsed": true
   },
   "outputs": [],
   "source": [
    "plot.savefig(\"bootstrap_values2\")"
   ]
  },
  {
   "cell_type": "code",
   "execution_count": null,
   "metadata": {},
   "outputs": [],
   "source": [
    "#final results with error\n",
    "from simul_functions import rms_for_initial_vals\n",
    "\n",
    "error=rms_for_initial_vals(bootstrap_values, bootstrap_values_2)\n",
    "final_values_up=values + error\n",
    "final_values_down=values - error\n",
    "\n",
    "print(values,'+/-',error)\n",
    "print(final_values_up)"
   ]
  },
  {
   "cell_type": "code",
   "execution_count": null,
   "metadata": {},
   "outputs": [],
   "source": [
    "from simul_functions import get_attenuation_parameters2\n",
    "\n",
    "final_parameters, cov2, sample, sample2 = get_attenuation_parameters2(s125_fit, s38_fit,s125_fit_error, bins, performMCMC=True)"
   ]
  },
  {
   "cell_type": "code",
   "execution_count": null,
   "metadata": {},
   "outputs": [],
   "source": [
    "print(final_parameters)\n",
    "#print(sample)\n",
    "print(sample2)"
   ]
  },
  {
   "cell_type": "code",
   "execution_count": null,
   "metadata": {},
   "outputs": [],
   "source": [
    "print(a3)\n",
    "import corner\n",
    "fig = corner.corner(sample, labels=[\"$a$\",\"$b$\", \"$s38$\"], truths=[alpha,beta, a3])\n",
    "fig.savefig(\"\")"
   ]
  },
  {
   "cell_type": "code",
   "execution_count": null,
   "metadata": {},
   "outputs": [],
   "source": [
    "sample[:, 2] = np.exp(sample[:, 2])\n",
    "m_mcmc, b_mcmc, f_mcmc = map(lambda v: (v[1], v[2]-v[1], v[1]-v[0]),\n",
    "                             zip(*np.percentile(sample, [16, 50, 84],\n",
    "                                                axis=0)))"
   ]
  },
  {
   "cell_type": "code",
   "execution_count": null,
   "metadata": {
    "collapsed": true
   },
   "outputs": [],
   "source": []
  }
 ],
 "metadata": {
  "kernelspec": {
   "display_name": "Python 3",
   "language": "python",
   "name": "python3"
  },
  "language_info": {
   "codemirror_mode": {
    "name": "ipython",
    "version": 3
   },
   "file_extension": ".py",
   "mimetype": "text/x-python",
   "name": "python",
   "nbconvert_exporter": "python",
   "pygments_lexer": "ipython3",
   "version": "3.6.3"
  }
 },
 "nbformat": 4,
 "nbformat_minor": 1
}
