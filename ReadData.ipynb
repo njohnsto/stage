{
 "cells": [
  {
   "cell_type": "markdown",
   "metadata": {},
   "source": [
    "# A first look at data\n",
    "\n",
    "date: 12/04/2018\n",
    "\n",
    "Example code for reading and checking data\n"
   ]
  },
  {
   "cell_type": "code",
   "execution_count": null,
   "metadata": {
    "collapsed": true
   },
   "outputs": [],
   "source": [
    "import pandas as pd\n",
    "import dask.dataframe as dd\n",
    "import glob as glob\n",
    "import numpy as np\n",
    "from scipy.stats import kde\n",
    "\n",
    "import matplotlib.pyplot as plt\n",
    "%matplotlib inline \n",
    "from matplotlib.colors import LogNorm\n",
    "plt.rc('font', size=16)\n",
    "plt.rcParams['figure.figsize'] = (12.0, 10.0)    # resize plots"
   ]
  },
  {
   "cell_type": "markdown",
   "metadata": {},
   "source": [
    "This is the part that reads data and makes a basic selection"
   ]
  },
  {
   "cell_type": "code",
   "execution_count": null,
   "metadata": {
    "collapsed": false
   },
   "outputs": [],
   "source": [
    "df = pd.DataFrame()\n",
    "df = pd.read_hdf('/data/IceCube/merged2015.h5', key='data')\n",
    "df['cos2'] = np.cos(df.zenith)**2\n",
    "df['I'] = 0\n",
    "df.drop(df.columns.difference(['s125',\"cos2\", \"I\"]), 1, inplace= True)\n",
    "df= df.loc[df.s125>25]\n",
    "df= df.loc[df.cos2>0.5]  \n",
    "print(df.count())\n",
    "#df.drop([\"Run\", \"Event\"], 1, inplace = True)\n"
   ]
  },
  {
   "cell_type": "code",
   "execution_count": null,
   "metadata": {
    "collapsed": false
   },
   "outputs": [],
   "source": [
    "#hist = plt.hist(np.degrees(df.zenith), bins=150)\n",
    "\n",
    "hist= plt.hist(np.log10(df.s125),bins= 200)"
   ]
  },
  {
   "cell_type": "code",
   "execution_count": null,
   "metadata": {
    "collapsed": false
   },
   "outputs": [],
   "source": [
    "\n",
    "import os\n",
    "filepath='/home/ioana/src/icecube/Noemi/stage/cic_att' \n",
    "os.chdir(filepath)\n",
    "%run data_functions.py\n",
    "from data_functions import set_intensity\n",
    "bins = 10\n",
    "df.reset_index(inplace=True)\n",
    "df, group = set_intensity(df, bins)\n"
   ]
  },
  {
   "cell_type": "code",
   "execution_count": null,
   "metadata": {
    "collapsed": false
   },
   "outputs": [],
   "source": [
    "%run data_functions.py\n",
    "from data_functions import get_data_to_fit\n",
    "#plt.plot(np.log10(df.s125),np.log10(df.I), 'ro')\n",
    "df['s125_error'] = 0.1*df['s125']\n",
    "vals, s125_fit, bin_centers, s125_fit_error  = get_data_to_fit(df, intensity= 300, n_bins = bins)\n",
    "print(vals)\n",
    "plt.errorbar(bin_centers, s125_fit, yerr=s125_fit_error, fmt=\".k\")\n",
    "#plt.plot(bin_centers, s125_fit, 'ro')"
   ]
  },
  {
   "cell_type": "code",
   "execution_count": null,
   "metadata": {
    "collapsed": false
   },
   "outputs": [],
   "source": [
    "fit_vals, cov = get_attenuation_parameters(s125_fit, bin_centers)\n",
    "fig2, ax2 =plt.subplots(figsize=(10,6))\n",
    "plt.grid()\n",
    "from data_functions import get_s125 \n",
    "print(fit_vals)\n",
    "a1=fit_vals[0]\n",
    "a2=fit_vals[1]\n",
    "a3=fit_vals[2]\n",
    "y=get_s125(bin_centers, a1,a2,a3)\n",
    "#y2=get_s125(bins, alpha, beta, a3)\n",
    "\n",
    "ax2.plot(bin_centers, s125_fit, lw=0, marker='o')\n",
    "ax2.plot(bin_centers, y, color=\"r\")\n",
    "#ax2.plot(bins2,y2)"
   ]
  },
  {
   "cell_type": "code",
   "execution_count": null,
   "metadata": {
    "collapsed": false
   },
   "outputs": [],
   "source": [
    "def compute_bootsrap_uncertainties(data, samples, bins, intenstity):\n",
    "    for i in range(samples):\n",
    "        rand_data = get_bootstrap_data(data)\n",
    "        rand_data, groups = set_intensity(rand_data, bins)\n",
    "        print(i)\n",
    "compute_bootsrap_uncertainties(df, 2, bins, 100)"
   ]
  },
  {
   "cell_type": "code",
   "execution_count": 64,
   "metadata": {
    "collapsed": false
   },
   "outputs": [
    {
     "name": "stdout",
     "output_type": "stream",
     "text": [
      "0.9149076709228637\n",
      "8\n",
      "0.8482812371800189\n",
      "7\n",
      "0.9923744855708777\n",
      "9\n",
      "0.8099568326188297\n",
      "6\n",
      "0.735317568462187\n",
      "5\n",
      "0.7093823362153255\n",
      "4\n",
      "0.6663951719691276\n",
      "3\n",
      "0.5597169685858354\n",
      "2\n",
      "0.5419221023735766\n",
      "1\n",
      "        index        s125      cos2    I  s125_error\n",
      "36065    9116  119.276033  0.916676  300   11.927603\n",
      "1284   117390  118.559899  0.861126  300   11.855990\n",
      "30782   64929  116.521550  0.972225  300   11.652155\n",
      "11770  142575  111.615775  0.805577  300   11.161577\n",
      "18098   96716  108.523853  0.750027  300   10.852385\n",
      "31251   44541  103.394314  0.694478  300   10.339431\n",
      "13935  147532   92.574739  0.638928  300    9.257474\n",
      "31602  161543   83.547529  0.583379  300    8.354753\n",
      "34972   99879   70.435330  0.527829  300    7.043533\n"
     ]
    },
    {
     "name": "stderr",
     "output_type": "stream",
     "text": [
      "/data/anaconda3/lib/python3.5/site-packages/pandas/core/indexing.py:194: SettingWithCopyWarning: \n",
      "A value is trying to be set on a copy of a slice from a DataFrame\n",
      "\n",
      "See the caveats in the documentation: http://pandas.pydata.org/pandas-docs/stable/indexing.html#indexing-view-versus-copy\n",
      "  self._setitem_with_indexer(indexer, value)\n"
     ]
    },
    {
     "data": {
      "text/plain": [
       "<Container object of 3 artists>"
      ]
     },
     "execution_count": 64,
     "metadata": {},
     "output_type": "execute_result"
    },
    {
     "data": {
      "image/png": "[encoded data removed]",
      "text/plain": [
       "<matplotlib.figure.Figure at 0x7efe0f488b38>"
      ]
     },
     "metadata": {},
     "output_type": "display_data"
    }
   ],
   "source": [
    "from tqdm import tqdm\n",
    "%run data_functions.py\n",
    "tqdm.pandas(desc=\"my bar!\")\n",
    "# Define cosine squared bins\n",
    "data = df.copy()    \n",
    "min_cos2 = data.cos2.min()\n",
    "cos2_bins = np.linspace(min_cos2, 1, 10, endpoint=True)\n",
    "\n",
    "# sort data by S125 values\n",
    "data.sort_values(['s125'], ascending = False, inplace = True)\n",
    "\n",
    "# Bin and group by cosine ^ 2\n",
    "ind = np.digitize(data['cos2'], cos2_bins)\n",
    "groups = data.groupby(ind)\n",
    "for name, group in groups:\n",
    "    initial_ind = group.I.index.tolist()\n",
    "    test = group.copy()\n",
    "    test.sort_values(['s125'], ascending= False, inplace = True)\n",
    "    test.reset_index(inplace=True)\n",
    "    test.drop(['index', 'level_0'], axis= 1, inplace=True)\n",
    "    #print(test)\n",
    "    data.loc[initial_ind, 'I'] = test.index.tolist()\n",
    "#print(data)\n",
    "data['s125_error'] = 0.1*data['s125']\n",
    "vals  = get_data_to_fit(data, intensity= 300, n_bins = bins)\n",
    "print(vals)\n",
    "plt.errorbar(vals['cos2'].tolist(), vals['s125'].tolist(), yerr=vals['s125_error'].tolist(), fmt=\".k\")    "
   ]
  },
  {
   "cell_type": "code",
   "execution_count": null,
   "metadata": {
    "collapsed": false
   },
   "outputs": [],
   "source": [
    "%run data_functions.py\n",
    "\n",
    "from data_functions import get_attenuation_parameters2\n",
    "\n",
    "params_scipy, cov2 = sp.optimize.curve_fit(get_s125, bin_centers, s125_fit)\n",
    "# Use as guess\n",
    "a_true = params_scipy[0]\n",
    "b_true = params_scipy[1]\n",
    "f_true = params_scipy[2]\n",
    "print (a_true, b_true, f_true)\n",
    "#final_parameters, cov2, sample = get_attenuation_parameters2(s125_fit, s38_fit, s125_fit_error, bins, performMCMC=True)\n",
    "sample = get_attenuation_parameters2(params_scipy, s125_fit, s125_fit_error, bin_centers)"
   ]
  },
  {
   "cell_type": "code",
   "execution_count": null,
   "metadata": {
    "collapsed": false,
    "scrolled": true
   },
   "outputs": [],
   "source": [
    "import math\n",
    "cos_ref = np.cos(math.radians(38))**2\n",
    "cos2 = bin_centers - cos_ref\n",
    "print(len(sample))\n",
    "# Plot a subset of the samples\n",
    "for a, b, f in sample[np.random.randint(len(sample), size=200)]:\n",
    "    plt.plot(cos2, f * (b * cos2**2 + a * cos2 + 1), color=\"k\", alpha=0.1)\n",
    "    plt.plot(cos2, f_true * (b_true * cos2**2 + a_true * cos2 + 1), color=\"r\", lw=2, alpha=0.8)\n",
    "    plt.errorbar(bin_centers-cos_ref, s125_fit, yerr=s125_fit_error, fmt=\".k\")"
   ]
  },
  {
   "cell_type": "code",
   "execution_count": null,
   "metadata": {
    "collapsed": false
   },
   "outputs": [],
   "source": [
    "import corner\n",
    "fig = corner.corner(sample, labels=[\"$a$\",\"$b$\", \"$s38$\"])\n",
    "fig.savefig(\"\")"
   ]
  },
  {
   "cell_type": "code",
   "execution_count": null,
   "metadata": {
    "collapsed": false,
    "scrolled": true
   },
   "outputs": [],
   "source": [
    "filenames = glob.glob('/data/IceCube/2015/*')\n",
    "number_of_files = 10000\n",
    "store = merge_and_select_data(filenames, '/data/IceCube/merged2015.h5', number_of_files )        \n",
    "dataAll = pd.DataFrame() \n",
    "dataAll = store.select('data')\n",
    "print(dataAll.count())\n",
    "store.close()    \n",
    "\n",
    "\n"
   ]
  }
 ],
 "metadata": {
  "kernelspec": {
   "display_name": "Python 3",
   "language": "python",
   "name": "python3"
  },
  "language_info": {
   "codemirror_mode": {
    "name": "ipython",
    "version": 3
   },
   "file_extension": ".py",
   "mimetype": "text/x-python",
   "name": "python",
   "nbconvert_exporter": "python",
   "pygments_lexer": "ipython3",
   "version": "3.5.4"
  }
 },
 "nbformat": 4,
 "nbformat_minor": 0
}
