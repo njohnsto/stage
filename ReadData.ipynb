{
 "cells": [
  {
   "cell_type": "markdown",
   "metadata": {},
   "source": [
    "# A first look at data\n",
    "\n",
    "date: 12/04/2018\n",
    "\n",
    "Example code for reading and checking data\n"
   ]
  },
  {
   "cell_type": "code",
   "execution_count": null,
   "metadata": {
    "collapsed": true
   },
   "outputs": [],
   "source": [
    "import pandas as pd\n",
    "import dask.dataframe as dd\n",
    "import glob as glob\n",
    "import numpy as np\n",
    "from scipy.stats import kde\n",
    "\n",
    "import matplotlib.pyplot as plt\n",
    "%matplotlib inline \n",
    "from matplotlib.colors import LogNorm\n",
    "plt.rc('font', size=16)\n",
    "plt.rcParams['figure.figsize'] = (12.0, 10.0)    # resize plots"
   ]
  },
  {
   "cell_type": "markdown",
   "metadata": {},
   "source": [
    "This is the part that reads data and makes a basic selection"
   ]
  },
  {
   "cell_type": "code",
   "execution_count": null,
   "metadata": {
    "collapsed": false
   },
   "outputs": [],
   "source": [
    "df = pd.DataFrame()\n",
    "df = pd.read_hdf('/data/IceCube/merged2015.h5', key='data')\n",
    "df['cos2'] = np.cos(df.zenith)**2\n",
    "df['I'] = 0\n",
    "df.drop(df.columns.difference(['s125',\"cos2\", \"I\"]), 1, inplace= True)\n",
    "df= df.loc[df.s125>25]\n",
    "df= df.loc[df.cos2>0.5]  \n",
    "print(df.count())\n",
    "#df.drop([\"Run\", \"Event\"], 1, inplace = True)\n"
   ]
  },
  {
   "cell_type": "code",
   "execution_count": null,
   "metadata": {
    "collapsed": false
   },
   "outputs": [],
   "source": [
    "#hist = plt.hist(np.degrees(df.zenith), bins=150)\n",
    "\n",
    "hist= plt.hist(np.log10(df.s125),bins= 200)"
   ]
  },
  {
   "cell_type": "code",
   "execution_count": null,
   "metadata": {
    "collapsed": false
   },
   "outputs": [],
   "source": [
    "\n",
    "import os\n",
    "filepath='/home/ioana/src/icecube/Noemi/stage/cic_att' \n",
    "os.chdir(filepath)\n",
    "%run data_functions.py\n",
    "from data_functions import set_intensity\n",
    "bins = 10\n",
    "df.reset_index(inplace=True)\n",
    "df = set_intensity(df, bins)\n"
   ]
  },
  {
   "cell_type": "code",
   "execution_count": null,
   "metadata": {
    "collapsed": false
   },
   "outputs": [],
   "source": [
    "%run data_functions.py\n",
    "from data_functions import get_data_to_fit\n",
    "#plt.plot(np.log10(df.s125),np.log10(df.I), 'ro')\n",
    "df['s125_error'] = 0.1*df['s125']\n",
    "values = get_data_to_fit(df, intensity= 300, n_bins = bins)\n",
    "print(values)\n",
    "plt.plot(values[1], values[0], 'ro')"
   ]
  },
  {
   "cell_type": "code",
   "execution_count": null,
   "metadata": {
    "collapsed": false
   },
   "outputs": [],
   "source": [
    "fit_vals, cov = get_attenuation_parameters(values[0], values[1])\n",
    "fig2, ax2 =plt.subplots(figsize=(10,6))\n",
    "plt.grid()\n",
    "from data_functions import get_s125 \n",
    "a1=fit_vals[0]\n",
    "a2=fit_vals[1]\n",
    "a3=fit_vals[2]\n",
    "y=get_s125(values[1], a1,a2,a3)\n",
    "#y2=get_s125(bins, alpha, beta, a3)\n",
    "\n",
    "ax2.plot(values[1], values[0], lw=0, marker='o')\n",
    "ax2.plot(values[1], y, color=\"r\")\n",
    "#ax2.plot(bins2,y2)"
   ]
  },
  {
   "cell_type": "code",
   "execution_count": null,
   "metadata": {
    "collapsed": false
   },
   "outputs": [],
   "source": [
    "%run data_functions.py\n",
    "\n",
    "from data_functions import get_attenuation_parameters2\n",
    "\n",
    "params_scipy, cov2 = sp.optimize.curve_fit(get_s125, values[1], values[0])\n",
    "# Use as guess\n",
    "a_true = params_scipy[0]\n",
    "b_true = params_scipy[1]\n",
    "f_true = params_scipy[2]\n",
    "\n",
    "#final_parameters, cov2, sample = get_attenuation_parameters2(s125_fit, s38_fit, s125_fit_error, bins, performMCMC=True)\n",
    "sample = get_attenuation_parameters2(params_scipy, values[0], values[2], values[1])"
   ]
  },
  {
   "cell_type": "code",
   "execution_count": null,
   "metadata": {
    "collapsed": false,
    "scrolled": true
   },
   "outputs": [],
   "source": [
    "import math\n",
    "cos_ref = np.cos(math.radians(38))**2\n",
    "cos2 = values[1] - cos_ref\n",
    "print(len(sample))\n",
    "# Plot a subset of the samples\n",
    "for a, b, f in sample[np.random.randint(len(sample), size=200)]:\n",
    "    plt.plot(cos2, f * (b * cos2**2 + a * cos2 + 1), color=\"k\", alpha=0.1)\n",
    "    plt.plot(cos2, f_true * (b_true * cos2**2 + a_true * cos2 + 1), color=\"r\", lw=2, alpha=0.8)\n",
    "    plt.errorbar(values[1]-cos_ref, values[0], yerr=values[2], fmt=\".k\")"
   ]
  },
  {
   "cell_type": "code",
   "execution_count": null,
   "metadata": {
    "collapsed": false
   },
   "outputs": [],
   "source": [
    "import corner\n",
    "fig = corner.corner(sample, labels=[\"$a$\",\"$b$\", \"$s38$\"])\n",
    "fig.savefig(\"\")"
   ]
  },
  {
   "cell_type": "code",
   "execution_count": null,
   "metadata": {
    "collapsed": false,
    "scrolled": true
   },
   "outputs": [],
   "source": [
    "filenames = glob.glob('/data/IceCube/2015/*')\n",
    "number_of_files = 10000\n",
    "store = merge_and_select_data(filenames, '/data/IceCube/merged2015.h5', number_of_files )        \n",
    "dataAll = pd.DataFrame() \n",
    "dataAll = store.select('data')\n",
    "print(dataAll.count())\n",
    "store.close()    \n",
    "\n",
    "\n"
   ]
  }
 ],
 "metadata": {
  "kernelspec": {
   "display_name": "Python 3",
   "language": "python",
   "name": "python3"
  },
  "language_info": {
   "codemirror_mode": {
    "name": "ipython",
    "version": 3
   },
   "file_extension": ".py",
   "mimetype": "text/x-python",
   "name": "python",
   "nbconvert_exporter": "python",
   "pygments_lexer": "ipython3",
   "version": "3.5.4"
  }
 },
 "nbformat": 4,
 "nbformat_minor": 0
}
